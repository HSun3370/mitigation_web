{
 "cells": [
  {
   "cell_type": "markdown",
   "metadata": {},
   "source": [
    "# 0 Starting\n",
    "\n",
    "Welcome to our project.\n",
    "Please read through to access the code."
   ]
  },
  {
   "cell_type": "code",
   "execution_count": 2,
   "metadata": {},
   "outputs": [
    {
     "data": {
      "text/markdown": [
       "# How Should Climate Change Uncertainty Impact Social Valuation and Policy\n",
       "\n",
       "This repository contains codes and jupyter notebooks which compute and demonstrate results of \"How Should Climate Change Uncertainty Impact Social Valuation and PolicyClimate Change Uncertainty Spillover in the Macroeconomy\" by [Micheal Barnett][id1]https://wpcarey.asu.edu/people/profile/3490536, [William Brock][id2]https://economics.missouri.edu/people/brock and [Lars Peter Hansen][id3]https://larspeterhansen.org/. Latest version could be found [here][id4]http://larspeterhansen.org/wp-content/uploads/2021/07/BBHannualLPH-16.pdf.\n",
       "\n",
       "Check out online demonstration: [![Read the Docs](https://img.shields.io/readthedocs/pip)](https://ClimateUncertaintySpillover.readthedocs.io/en/latest/)\n",
       "\n",
       "We also have a jupyter book version: [![Jupyter Book Badge](jybook/badge.svg)](https://lphansen.github.io/ClimateUncertaintySpillover/)\n",
       "\n",
       "Check out our binder: [![Binder](https://mybinder.org/badge_logo.svg)](https://mybinder.org/v2/gh/lphansen/ClimateUncertaintySpillover.git/macroAnnual_v2?filepath=sec0_prep.ipynb)\n",
       "\n",
       "## Table of contents\n",
       "\n",
       "- [Prerequisite](#prerequisite)\n",
       "- [Acessing our project](#acessing)\n",
       "- [Quick user's guide](#quick-guide)\n",
       "\n",
       "## <a name=\"prerequisite\"></a>Prerequisite\n",
       "\n",
       "`Python == 3.8.x`, package manager such as `pip`,  and `jupyter notebook` to checkout the notebooks.\n",
       "\n",
       "To go to the documentation of this project, please go to: (link avaliable when published).\n",
       "\n",
       "This project has been tested in an environment with\n",
       "\n",
       "> `Python == 3.8.11` and  `jupyter notebook == 5.7.10`\n",
       "\n",
       "## <a name=\"acessing\"></a>Acessing our project\n",
       "\n",
       "To store the notebook as well as codes in your local machine. You can do this by following steps below:\n",
       "\n",
       "1. Open a Windows command prompt, Mac terminal or Linux terminal and change into the folder you would like to store the files.\n",
       "\n",
       "   - You can do this using the command `cd` in the command prompt (on Windows) or terminal (on Mac and Linux).\n",
       "     - For example, running `cd 'C:\\Users\\username\\python'` (don’t forget '' around the path name to use an absolute path) would lead me to my designated folder.\n",
       "\n",
       "   ```bash\n",
       "   cd [folder path name]\n",
       "   ```\n",
       "2. Clone the github repository for the paper\n",
       "\n",
       "   - If you don’t have github installed, try installing it from this page: https://git-scm.com/download.\n",
       "   - You can do this by running below in the command prompt:\n",
       "\n",
       "   ```bash\n",
       "   git clone https://github.com/lphansen/ClimateUncertaintySpillover.git\n",
       "   ```\n",
       "3. Change directories into the ‘Wrestling’ folder and install the required packages for the current user or your initiated virtual environment:\n",
       "\n",
       "   ```bash\n",
       "   cd ClimateUncertaintySpillover\n",
       "   pip install -r requirements.txt\n",
       "   ```\n",
       "4. Download the large data files from [Google Drive](https://drive.google.com/drive/folders/1vjr8PrlmX4ABRN2S6L0aCDf6omQJHA1R):\n",
       "\n",
       "```\n",
       "gdown -O ./data/ --folder 1vjr8PrlmX4ABRN2S6L0aCDf6omQJHA1R\n",
       "```\n",
       "\n",
       "5. Access the notebooks, run the following under the folder `ClimateUncertaintySpillover/`:\n",
       "\n",
       "   ```bash\n",
       "   jupyter notebook\n",
       "   ```\n",
       "\n",
       "   and you will see the notebooks listed below.\n",
       "\n",
       "   Then click <button type = \"button\" name=\"runall\">Run all</button> from <button type=\"runtime\" name=\"runtime\">runtime</button> to see our results.\n",
       "\n",
       "## <a name=\"quick-guide\"></a>Quick user's guide\n",
       "\n",
       "description of notebooks' contents\n",
       "\n",
       "The notebooks are separated according to section in the paper.\n",
       "\n",
       "- Section 1: [Introduction](sec1_Introduction.ipynb)\n",
       "- Section 2: [Uncertain climate dynamics](sec2_UncertainClimateDynamics.ipynb)\n",
       "- Section 3: [Uncertain damage](sec3_UncertainDamage.ipynb)\n",
       "- Section 4: [Illustrative economy I: uncertain damages and smooth ambiguity](sec4_IllustrativeEconI.ipynb)\n",
       "- Section 5: [Illustrative economy II: uncertainty decomposition](sec5_IllustrativeEconII.ipynb)\n",
       "- Section 6: [Illustrative economy III: carbon abatement technology](sec6_IllustrativeEconIII.ipynb)\n",
       "- Section 7: [Illustrative economy IV: tail-end damages](sec7_IllustrativeEconIV.ipynb)\n",
       "- Section 8: [Conclusion](sec8_Conclusion.ipynb)\n",
       "\n",
       "As well as appendices:\n",
       "\n",
       "- Appendix A: [Complete model](appendixA.ipynb)\n",
       "- Appendix B: [Computational methods](appendixB.ipynb)\n",
       "- Appendix C: [When Y has two states](appendixC.ipynb)\n",
       "\n",
       "[id1]: https://wpcarey.asu.edu/people/profile/3490536\n",
       "[id2]: https://economics.missouri.edu/people/brock\n",
       "[id3]: https://larspeterhansen.org/\n",
       "[id4]: http://larspeterhansen.org/wp-content/uploads/2021/07/BBHannualLPH-16.pdf\n"
      ],
      "text/plain": [
       "<IPython.core.display.Markdown object>"
      ]
     },
     "metadata": {},
     "output_type": "display_data"
    }
   ],
   "source": [
    "from IPython.display import Markdown, display\n",
    "display(Markdown(\"README.md\"))"
   ]
  },
  {
   "cell_type": "code",
   "execution_count": null,
   "metadata": {},
   "outputs": [],
   "source": []
  },
  {
   "cell_type": "code",
   "execution_count": null,
   "metadata": {},
   "outputs": [],
   "source": []
  }
 ],
 "metadata": {
  "kernelspec": {
   "display_name": "base",
   "language": "python",
   "name": "python3"
  },
  "language_info": {
   "codemirror_mode": {
    "name": "ipython",
    "version": 3
   },
   "file_extension": ".py",
   "mimetype": "text/x-python",
   "name": "python",
   "nbconvert_exporter": "python",
   "pygments_lexer": "ipython3",
   "version": "3.9.7"
  }
 },
 "nbformat": 4,
 "nbformat_minor": 4
}
