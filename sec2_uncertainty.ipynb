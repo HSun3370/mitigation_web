{
 "cells": [
  {
   "attachments": {},
   "cell_type": "markdown",
   "metadata": {},
   "source": [
    "# 2 Confronting Uncertainty \n",
    "\n",
    "## 2.1: Brownian Motion\n",
    "\n",
    "Under a baseline probability specification, $W  \\doteq \\{ W_t : t \\ge 0\\}$ is a multivariate standard Brownian motion. \n",
    "\n",
    "We partition the vector of Brownian motion into four subvectors as follows:\n",
    "\n",
    "\n",
    "$$\n",
    "dW_t = \\begin{bmatrix} dW_t^k \\cr dW_t^j \\cr dW_t^y \\cr dW_t^n \\cr \\end{bmatrix}\n",
    "$$\n",
    "\n",
    "where the first component consists of the technology shocks, the second component consists of the R\\&D shocks and the third component contains the climate change shocks. \n"
   ]
  },
  {
   "cell_type": "markdown",
   "metadata": {},
   "source": []
  }
 ],
 "metadata": {
  "language_info": {
   "name": "python"
  },
  "orig_nbformat": 4
 },
 "nbformat": 4,
 "nbformat_minor": 2
}
