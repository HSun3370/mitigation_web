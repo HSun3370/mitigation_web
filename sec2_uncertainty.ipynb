{
 "cells": [
  {
   "attachments": {},
   "cell_type": "markdown",
   "metadata": {},
   "source": [
    "# 2 Confronting Uncertainty \n",
    "\n",
    "## 2.1: Brownian Motion\n",
    "\n",
    "Under a baseline probability specification, $W  \\doteq \\{ W_t : t \\ge 0\\}$ is a multivariate standard Brownian motion. \n",
    "\n",
    "We partition the vector of Brownian motion into four subvectors as follows:\n",
    "\n",
    "\n",
    "$$\n",
    "dW_t = \\begin{bmatrix} dW_t^k \\cr dW_t^j \\cr dW_t^y \\cr dW_t^n \\cr \\end{bmatrix}\n",
    "$$\n",
    "\n",
    "where the first component consists of the technology shocks, the second component consists of the R\\&D shocks and the third component contains the climate change shocks. \n",
    "\n",
    "\n",
    "## 2.2: Jump misspecification\n",
    "\n",
    "\n",
    "Let ${\\mathfrak I}$ denote a state dependent jump intensity and let $\\pi(\\ell \\mid x ), \\ell =1,2,...,L $ give the jump distribution conditioned on a jump when $X_t = x$.   While our application will have multiple jumps, for pedagogical simplicity, we suppose that there is a single jump that shifts a value function from ${\\widehat V}(x)$ to  ${\\widetilde V}[\\tilde x(\\ell), \\ell ]$ with baseline probability $\\pi(\\ell \\mid x)$ for $\\ell=0,1,...L$ where\n",
    "$$\n",
    "\\sum_{\\ell = 0}^L \\pi(\\ell \\mid  x) = 1.\n",
    "$$\n",
    "Following a jump, $x$ changes as does the value function.  For each choice of $\\ell$,   $x$ jumps to the  ${\\tilde x}(\\ell)$ where $\\ell$ is uncertain prior to the jump.  \n",
    "The jump process contributes the following term to the drift of ${\\widehat V} (X)$: \n",
    "\n",
    "\\begin{equation}\n",
    " {\\mathfrak I}(x) \\sum_{\\ell=0}^L  \\left[ {\\widetilde  V} [\\tilde x(\\ell),\\ell] - {\\widehat V} (x) \\right] \\pi(\\ell \\mid x)  .\n",
    "\\end{equation} \n",
    "  \n",
    "\n",
    "To capture potential misspecification, we introduce a nonnegative function $f$  where the altered jump distribution is:\n",
    "\n",
    "$$\n",
    "\\frac {f( \\ell  \\mid x) \\pi(\\ell, x) }{ {\\bar f}( x) },\n",
    "$$\n",
    "\n",
    "and intensity $\\mathfrak I(x) {\\bar f}( x )$ where \n",
    "\n",
    "$$\n",
    "{\\bar f}( x ) = \\sum_{{m} = 0}^M  f ( \\ell  \\mid x ) \\pi({\\ell} \\mid x)\n",
    "$$\n",
    "\n",
    "To restrain the exploration of potential misspecification, we introduce a convex  cost:\n",
    "\n",
    "$$\n",
    "\\xi_r {\\mathfrak I}(x) \\sum_{\\ell = 0}^L \\left[ 1 - f( \\ell \\mid x )  + f( \\ell  \\mid x )  \\log f( \\ell  \\mid x )\\right]   \\pi(\\ell \\mid x).  \n",
    "$$\n",
    "\n",
    "The term multiplying $\\xi_r$ is  a local (in time) measure of relative entropy applicable to jump processes.\\footnote{See, for instance,  \\cite{AndersonHansenSargent:2003}.}   \n",
    "\n",
    "To confront misspecification, we solve:\n",
    "\n",
    "\\begin{align*} \n",
    "\\min_{f \\ge 0} \\hspace{.3cm}  & {\\mathfrak I}(x)  \\sum_{\\ell = 0}^L   \\left[ {\\widetilde  V} [\\tilde x(\\ell),\\ell] - {\\widehat V} (x) \\right] f( \\ell  \\mid x) \\pi( \\ell \\mid x)\\cr\n",
    " & +  \\xi_r {\\mathfrak I}(x) \\sum_{\\ell=0}^L \\left[ 1 - f( \\ell \\mid x )  + f( \\ell \\mid x )  \\log f( \\ell \\mid x )\\right]   \\pi(\\ell \\mid x)  \n",
    "\\end{align*}\n"
   ]
  },
  {
   "cell_type": "markdown",
   "metadata": {},
   "source": []
  }
 ],
 "metadata": {
  "kernelspec": {
   "display_name": "base",
   "language": "python",
   "name": "python3"
  },
  "language_info": {
   "name": "python",
   "version": "3.9.7"
  },
  "orig_nbformat": 4
 },
 "nbformat": 4,
 "nbformat_minor": 2
}
