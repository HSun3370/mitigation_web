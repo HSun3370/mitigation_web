{
 "cells": [
  {
   "attachments": {},
   "cell_type": "markdown",
   "metadata": {},
   "source": [
    "# 5 Economic Framework\n",
    "\n",
    "\n",
    "We start by considering a simple production-based model with an AK production technology subject to adjustment costs.  By design, this formulation has  close ties to much of the long-run risk with consumption exogenously specified consumption endowments.  Prior to introducing climate change, we include two modifications.  First, we include an energy input in way that is mathematically similar to what is used in so called ``DICE'' models; and second, we allow for R\\&D that could eventually remove the need for energy input.  In regards to the second modification,  some suggest that an economically viable version of nuclear fusion might achieve this aim. \n",
    "\n",
    "## 5.1 Production and Innovation\n",
    "\n",
    "\n",
    "The economic component to our model has two endogenous  state variables: the stock of productive capital and the stock of research and development capital.  \n",
    "The stock of productive capital, $K_t,$  evolves as\n",
    "\n",
    "$$\n",
    "dK_t = K_t \\left[ - \\mu_k    + \\left({\\frac {I_{t}^k}{K_t}} \\right)  -\n",
    "{\\frac { \\kappa} 2} \\left( {\\frac {I_{t}^k} {K_t}} \\right)^2 \\right] dt \n",
    "+ K_t \\sigma_k dW_t\n",
    "$$\n",
    "\n",
    "where $\\sigma_k$ is a row vector with the same dimension as the underlying Brownian motion. Capital is broadly conceived to include human capital and intangible capital.  Investment $I_t^k$  contributes new capital subject to an adjustment cost captured by the curvature parameter $\\kappa$.  \n",
    "\n",
    "\n",
    "\n",
    "A process $R$ captures the stock of knowledge induced by research and development as measured by $R_t$:\n",
    "\n",
    "$$\n",
    "d R_t = - \\zeta R_t dt + \\psi_0 \\left(I_t^r\\right)^{\\psi_1} \\left(R_t\\right)^{1 - \\psi_1} dt + R_t \\sigma_r dW_t \n",
    "$$\n",
    "\n",
    "\n",
    "where $0 < \\psi_1 < 1$ and $I_t^j$ is an investment in research and development (R \\& D).  \n",
    "\n",
    "While we will solve a social planner's problem, we will subsequently entertain the possibility that this evolution equation includes an externality associated with R\\&D. For pedagogical simplicity, we consider the case of a single technology jump to a fully productive green technology.  The parameter, $\\zeta,$ captures depreciation in the  stock of knowledge pertinent for future technological progress.  \n",
    "\n",
    "\n",
    "### 5.1.1 Output \n",
    "\n",
    "Output is split between consumption, productive and R\\&D capital investments, and emissions abatement expenditure.  \n",
    "\n",
    "$$\n",
    "C_t + I_t^k +  I_t^r = \\alpha K_t  \\left[1 - \\phi_{0}(Z_t)\\left(A^b_t\\right)^{\\phi_1} \\right] \n",
    "$$\n",
    "\n",
    "for $\\phi_1  \\ge 2$ and $0<\\phi_{0}(Z_t) \\le 1,$  where \n",
    "\n",
    "\n",
    "$$\n",
    "A^b_t  =   \\left(1 - \\frac {{\\mathcal E}_t}{\\beta \\alpha K_t}  \\right){\\mathbf 1}_{\\{{\\mathcal E}_t  < \\beta \\alpha K_t\\}}\n",
    "$$\n",
    "\n",
    "and where ${\\mathbf 1}$ is an indicator function that assigns one to the event in the parentheses.  When emissions fall short of the threshold $\\beta_t \\alpha K_t,$   there is a corresponding convex adjustment in the output given by the right-hand side of output constraint.  \n",
    "\n",
    "This technology is, by design, homogeneous of degree one.   For a fixed $K_t,$ the implied production function is flat when emissions exceed the threshold of $\\beta \\alpha K_t,$ and has a zero left derivative at this point.  The function equals $1-\\phi_{0}(Z_t)$ when  ${\\mathcal E}_t=0$ and increases up the threshold\n",
    "as a concave function with curvature dictated by the parameter $\\phi_1.$ We feature the case in which  $\\phi_1 = 3.$  \n"
   ]
  },
  {
   "attachments": {},
   "cell_type": "markdown",
   "metadata": {},
   "source": [
    "## 5.2 Social Valuation\n",
    "\n",
    "The first-order conditions for the socially efficient R \\& D investment are:\n",
    "\n",
    "$$\n",
    "\\frac {\\partial {\\widehat V}}{ \\partial r } (X_t) \\psi_0 \\psi_1 \\left( I_t^r  \\right)^{\\psi_1-1} \\left( R_t \\right)^{1-\\psi_1} \n",
    " - \\delta \\left(C_t\\right)^{-\\rho}  \\left(N_t\\right)^{\\rho-1}  \n",
    " \\left(\\exp \\left[(\\rho - 1) {\\widehat V}(X_t)\\right] \\right) = 0.  \n",
    "$$\n",
    "\n",
    "where we replace $C_t$ with $\\frac{C_t}{N_t}$ in the preference specification.  \n",
    "\n",
    "Thus\n",
    "\n",
    "$$\n",
    "\\left( I_t^r  \\right)^{1 - \\psi_1} = \\psi_0 \\psi_1\\left( R_t \\right)^{-\\psi_1} N_t \\left[  \\frac { R_t \\frac {\\partial {\\widehat V}}{ \\partial r } (X_t)  }{\n",
    "\\delta \\left(C_t\\right)^{-\\rho}  \\left(N_t\\right)^{\\rho }  \n",
    " \\left(\\exp \\left[(\\rho - 1) {\\widehat V}(X_t)\\right] \\right)}\\right] .\n",
    "$$\n",
    "\n",
    "The term in brackets is the social value of the knowledge stock of R \\& D expressed in units of (damaged)  consumption. We now give an asset pricing representation of social value of the stock of R \\& D which is the intertemporal input into the social benefit for R \\& D investment.  \n"
   ]
  },
  {
   "cell_type": "markdown",
   "metadata": {},
   "source": []
  }
 ],
 "metadata": {
  "kernelspec": {
   "display_name": "base",
   "language": "python",
   "name": "python3"
  },
  "language_info": {
   "codemirror_mode": {
    "name": "ipython",
    "version": 3
   },
   "file_extension": ".py",
   "mimetype": "text/x-python",
   "name": "python",
   "nbconvert_exporter": "python",
   "pygments_lexer": "ipython3",
   "version": "3.9.7"
  },
  "orig_nbformat": 4
 },
 "nbformat": 4,
 "nbformat_minor": 2
}
